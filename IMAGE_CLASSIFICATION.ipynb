{
  "nbformat": 4,
  "nbformat_minor": 0,
  "metadata": {
    "colab": {
      "provenance": [],
      "include_colab_link": true
    },
    "kernelspec": {
      "name": "python3",
      "display_name": "Python 3"
    },
    "language_info": {
      "name": "python"
    }
  },
  "cells": [
    {
      "cell_type": "markdown",
      "metadata": {
        "id": "view-in-github",
        "colab_type": "text"
      },
      "source": [
        "<a href=\"https://colab.research.google.com/github/arzoo118/Robo-Speaker/blob/main/IMAGE_CLASSIFICATION.ipynb\" target=\"_parent\"><img src=\"https://colab.research.google.com/assets/colab-badge.svg\" alt=\"Open In Colab\"/></a>"
      ]
    },
    {
      "cell_type": "code",
      "execution_count": null,
      "metadata": {
        "colab": {
          "base_uri": "https://localhost:8080/"
        },
        "id": "wkhjt_jM0ucO",
        "outputId": "c674b539-8743-4461-b7e9-c31c0a41a256"
      },
      "outputs": [
        {
          "output_type": "stream",
          "name": "stdout",
          "text": [
            "Downloading http://yann.lecun.com/exdb/mnist/train-images-idx3-ubyte.gz\n",
            "Failed to download (trying next):\n",
            "HTTP Error 403: Forbidden\n",
            "\n",
            "Downloading https://ossci-datasets.s3.amazonaws.com/mnist/train-images-idx3-ubyte.gz\n",
            "Downloading https://ossci-datasets.s3.amazonaws.com/mnist/train-images-idx3-ubyte.gz to ./data/MNIST/raw/train-images-idx3-ubyte.gz\n"
          ]
        },
        {
          "output_type": "stream",
          "name": "stderr",
          "text": [
            "100%|██████████| 9912422/9912422 [00:00<00:00, 52566465.56it/s]\n"
          ]
        },
        {
          "output_type": "stream",
          "name": "stdout",
          "text": [
            "Extracting ./data/MNIST/raw/train-images-idx3-ubyte.gz to ./data/MNIST/raw\n",
            "\n",
            "Downloading http://yann.lecun.com/exdb/mnist/train-labels-idx1-ubyte.gz\n",
            "Failed to download (trying next):\n",
            "HTTP Error 403: Forbidden\n",
            "\n",
            "Downloading https://ossci-datasets.s3.amazonaws.com/mnist/train-labels-idx1-ubyte.gz\n",
            "Downloading https://ossci-datasets.s3.amazonaws.com/mnist/train-labels-idx1-ubyte.gz to ./data/MNIST/raw/train-labels-idx1-ubyte.gz\n"
          ]
        },
        {
          "output_type": "stream",
          "name": "stderr",
          "text": [
            "100%|██████████| 28881/28881 [00:00<00:00, 1808913.39it/s]\n"
          ]
        },
        {
          "output_type": "stream",
          "name": "stdout",
          "text": [
            "Extracting ./data/MNIST/raw/train-labels-idx1-ubyte.gz to ./data/MNIST/raw\n",
            "\n",
            "Downloading http://yann.lecun.com/exdb/mnist/t10k-images-idx3-ubyte.gz\n",
            "Failed to download (trying next):\n",
            "HTTP Error 403: Forbidden\n",
            "\n",
            "Downloading https://ossci-datasets.s3.amazonaws.com/mnist/t10k-images-idx3-ubyte.gz\n",
            "Downloading https://ossci-datasets.s3.amazonaws.com/mnist/t10k-images-idx3-ubyte.gz to ./data/MNIST/raw/t10k-images-idx3-ubyte.gz\n"
          ]
        },
        {
          "output_type": "stream",
          "name": "stderr",
          "text": [
            "100%|██████████| 1648877/1648877 [00:00<00:00, 13414380.92it/s]\n"
          ]
        },
        {
          "output_type": "stream",
          "name": "stdout",
          "text": [
            "Extracting ./data/MNIST/raw/t10k-images-idx3-ubyte.gz to ./data/MNIST/raw\n",
            "\n",
            "Downloading http://yann.lecun.com/exdb/mnist/t10k-labels-idx1-ubyte.gz\n",
            "Failed to download (trying next):\n",
            "HTTP Error 403: Forbidden\n",
            "\n",
            "Downloading https://ossci-datasets.s3.amazonaws.com/mnist/t10k-labels-idx1-ubyte.gz\n",
            "Downloading https://ossci-datasets.s3.amazonaws.com/mnist/t10k-labels-idx1-ubyte.gz to ./data/MNIST/raw/t10k-labels-idx1-ubyte.gz\n"
          ]
        },
        {
          "output_type": "stream",
          "name": "stderr",
          "text": [
            "100%|██████████| 4542/4542 [00:00<00:00, 4866035.45it/s]"
          ]
        },
        {
          "output_type": "stream",
          "name": "stdout",
          "text": [
            "Extracting ./data/MNIST/raw/t10k-labels-idx1-ubyte.gz to ./data/MNIST/raw\n",
            "\n"
          ]
        },
        {
          "output_type": "stream",
          "name": "stderr",
          "text": [
            "\n"
          ]
        }
      ],
      "source": [
        "import torch\n",
        "import torchvision\n",
        "import torchvision.transforms as transforms\n",
        "from torch.utils.data import DataLoader\n",
        "\n",
        "transform = transforms.Compose([\n",
        "    transforms.ToTensor(),\n",
        "    transforms.Normalize((0.5,), (0.5,))\n",
        "])\n",
        "\n",
        "train_dataset = torchvision.datasets.MNIST(root='./data', train=True, download=True, transform=transform)\n",
        "test_dataset = torchvision.datasets.MNIST(root='./data', train=False, download=True, transform=transform)\n",
        "\n",
        "train_loader = DataLoader(train_dataset, batch_size=64, shuffle=True)\n",
        "test_loader = DataLoader(test_dataset, batch_size=64, shuffle=False)\n"
      ]
    },
    {
      "cell_type": "code",
      "source": [
        "from google.colab import drive\n",
        "drive.mount('/content/drive')"
      ],
      "metadata": {
        "colab": {
          "base_uri": "https://localhost:8080/"
        },
        "id": "Vviqz-tGAlCl",
        "outputId": "458b4b2f-6cd4-47a8-ba69-bf0fb8feed07"
      },
      "execution_count": null,
      "outputs": [
        {
          "output_type": "stream",
          "name": "stdout",
          "text": [
            "Mounted at /content/drive\n"
          ]
        }
      ]
    },
    {
      "cell_type": "code",
      "source": [
        "# Fully connected\n",
        "import torch.nn as nn\n",
        "import torch.nn.functional as F\n",
        "\n",
        "class FullyConnectedNet(nn.Module):\n",
        "    def __init__(self):\n",
        "        super(FullyConnectedNet, self).__init__()\n",
        "        self.fc1 = nn.Linear(28*28, 512)\n",
        "        self.fc2 = nn.Linear(512, 256)\n",
        "        self.fc3 = nn.Linear(256, 10)\n",
        "\n",
        "    def forward(self, x):\n",
        "        x = x.view(-1, 28*28)\n",
        "        x = F.relu(self.fc1(x))\n",
        "        x = F.relu(self.fc2(x))\n",
        "        x = self.fc3(x)\n",
        "        return x\n",
        "\n",
        "fc_net = FullyConnectedNet()\n",
        "\n",
        "\n",
        "# Hybrid\n",
        "\n",
        "class HybridNet(nn.Module):\n",
        "    def __init__(self):\n",
        "        super(HybridNet, self).__init__()\n",
        "        self.conv1 = nn.Conv2d(1, 32, kernel_size=3, stride=1, padding=1)\n",
        "        self.conv2 = nn.Conv2d(32, 64, kernel_size=3, stride=1, padding=1)\n",
        "        self.fc1 = nn.Linear(64*7*7, 256)\n",
        "        self.fc2 = nn.Linear(256, 10)\n",
        "\n",
        "    def forward(self, x):\n",
        "        x = F.relu(self.conv1(x))\n",
        "        x = F.max_pool2d(x, 2)\n",
        "        x = F.relu(self.conv2(x))\n",
        "        x = F.max_pool2d(x, 2)\n",
        "        x = x.view(-1, 64*7*7)\n",
        "        x = F.relu(self.fc1(x))\n",
        "        x = self.fc2(x)\n",
        "        return x\n",
        "\n",
        "hybrid_net = HybridNet()\n",
        "\n",
        "# CNN\n",
        "class FullyConvolutionalNet(nn.Module):\n",
        "    def __init__(self):\n",
        "        super(FullyConvolutionalNet, self).__init__()\n",
        "        self.conv1 = nn.Conv2d(1, 32, kernel_size=3, stride=1, padding=1)\n",
        "        self.conv2 = nn.Conv2d(32, 64, kernel_size=3, stride=1, padding=1)\n",
        "        self.conv3 = nn.Conv2d(64, 128, kernel_size=3, stride=1, padding=1)\n",
        "        self.conv4 = nn.Conv2d(128, 10, kernel_size=3, stride=1, padding=1)\n",
        "        self.pool = nn.MaxPool2d(2, 2)\n",
        "\n",
        "    def forward(self, x):\n",
        "        x = F.relu(self.conv1(x))\n",
        "        x = self.pool(x)\n",
        "        x = F.relu(self.conv2(x))\n",
        "        x = self.pool(x)\n",
        "        x = F.relu(self.conv3(x))\n",
        "        x = self.pool(x)\n",
        "        x = self.conv4(x)\n",
        "        x = F.avg_pool2d(x, x.size()[2:])\n",
        "        x = x.view(-1, 10)\n",
        "        return x\n",
        "\n",
        "conv_net = FullyConvolutionalNet()"
      ],
      "metadata": {
        "id": "3gozB28A1JHi"
      },
      "execution_count": null,
      "outputs": []
    },
    {
      "cell_type": "code",
      "source": [
        "#training\n",
        "def train_model(model, train_loader, test_loader, num_epochs=2):\n",
        "    criterion = nn.CrossEntropyLoss()\n",
        "    optimizer = torch.optim.Adam(model.parameters(), lr=0.001)\n",
        "\n",
        "    for epoch in range(num_epochs):\n",
        "        model.train()\n",
        "        running_loss = 0.0\n",
        "        for images, labels in train_loader:\n",
        "            optimizer.zero_grad()\n",
        "            outputs = model(images)\n",
        "            loss = criterion(outputs, labels)\n",
        "            loss.backward()\n",
        "            optimizer.step()\n",
        "            running_loss += loss.item()\n",
        "\n",
        "        print(f\"Epoch [{epoch+1}/{num_epochs}], Loss: {running_loss/len(train_loader):.4f}\")\n",
        "\n",
        "        # Validation\n",
        "        model.eval()\n",
        "        correct = 0\n",
        "        total = 0\n",
        "        with torch.no_grad():\n",
        "            for images, labels in test_loader:\n",
        "                outputs = model(images)\n",
        "                _, predicted = torch.max(outputs.data, 1)\n",
        "                total += labels.size(0)\n",
        "                correct += (predicted == labels).sum().item()\n",
        "        print(f\"Accuracy: {100 * correct / total:.2f}%\")\n",
        "\n",
        "\n",
        "# Train FCN\n",
        "train_model(fc_net, train_loader, test_loader)\n",
        "\n",
        "# Train Hybrid\n",
        "train_model(hybrid_net, train_loader, test_loader)\n",
        "\n",
        "# Train CNN\n",
        "train_model(conv_net, train_loader, test_loader)\n",
        "\n",
        "\n",
        "def save_model(model, path):\n",
        "    torch.save(model.state_dict(), path)\n",
        "\n",
        "def load_model(model, path):\n",
        "    model.load_state_dict(torch.load(path))\n",
        "    return model\n",
        "\n",
        "save_model(fc_net, 'fc_net.pth')\n",
        "fc_net = load_model(FullyConnectedNet(), 'fc_net.pth')\n",
        "\n",
        "\n",
        "# Fine-tuning function\n",
        "def fine_tune_model(model, train_loader, test_loader, num_epochs=5):\n",
        "    train_model(model, train_loader, test_loader, num_epochs)\n",
        "\n",
        "fine_tune_model(fc_net, train_loader, test_loader)\n"
      ],
      "metadata": {
        "colab": {
          "base_uri": "https://localhost:8080/"
        },
        "id": "xRypNo5O1joA",
        "outputId": "903878d0-9af2-40d4-c28f-822be7fd53ec"
      },
      "execution_count": null,
      "outputs": [
        {
          "output_type": "stream",
          "name": "stdout",
          "text": [
            "Epoch [1/2], Loss: 0.2956\n",
            "Accuracy: 94.89%\n",
            "Epoch [2/2], Loss: 0.1330\n",
            "Accuracy: 96.22%\n",
            "Epoch [1/2], Loss: 0.1492\n",
            "Accuracy: 98.51%\n",
            "Epoch [2/2], Loss: 0.0436\n",
            "Accuracy: 98.82%\n",
            "Epoch [1/2], Loss: 0.2608\n",
            "Accuracy: 97.54%\n",
            "Epoch [2/2], Loss: 0.0616\n",
            "Accuracy: 98.82%\n",
            "Epoch [1/5], Loss: 0.1038\n",
            "Accuracy: 96.92%\n",
            "Epoch [2/5], Loss: 0.0834\n",
            "Accuracy: 96.58%\n",
            "Epoch [3/5], Loss: 0.0701\n",
            "Accuracy: 97.52%\n",
            "Epoch [4/5], Loss: 0.0589\n",
            "Accuracy: 97.50%\n",
            "Epoch [5/5], Loss: 0.0519\n",
            "Accuracy: 97.32%\n"
          ]
        }
      ]
    },
    {
      "cell_type": "code",
      "source": [
        "from sklearn.model_selection import KFold\n",
        "import numpy as np\n",
        "\n",
        "def k_fold_cross_val(model_class, dataset, k=5, num_epochs=2):\n",
        "    kf = KFold(n_splits=k)\n",
        "    results = []\n",
        "\n",
        "    for train_index, test_index in kf.split(dataset):\n",
        "        train_subset = torch.utils.data.Subset(dataset, train_index)\n",
        "        test_subset = torch.utils.data.Subset(dataset, test_index)\n",
        "\n",
        "        train_loader = DataLoader(train_subset, batch_size=64, shuffle=True)\n",
        "        test_loader = DataLoader(test_subset, batch_size=64, shuffle=False)\n",
        "\n",
        "        model = model_class()\n",
        "        train_model(model, train_loader, test_loader, num_epochs)\n",
        "\n",
        "\n",
        "        model.eval()\n",
        "        correct = 0\n",
        "        total = 0\n",
        "        with torch.no_grad():\n",
        "            for images, labels in test_loader:\n",
        "                outputs = model(images)\n",
        "                _, predicted = torch.max(outputs.data, 1)\n",
        "                total += labels.size(0)\n",
        "                correct += (predicted == labels).sum().item()\n",
        "        accuracy = 100 * correct / total\n",
        "        results.append(accuracy)\n",
        "\n",
        "    print(f\"K-Fold Cross-Validation Results: {results}\")\n",
        "    print(f\"Mean Accuracy: {np.mean(results):.2f}%\")\n",
        "\n",
        "k_fold_cross_val(FullyConnectedNet, train_dataset)\n"
      ],
      "metadata": {
        "colab": {
          "base_uri": "https://localhost:8080/"
        },
        "id": "BwSXBlEi2KiZ",
        "outputId": "4b8df94e-2aa7-4e24-ecf1-da04afb25e89"
      },
      "execution_count": null,
      "outputs": [
        {
          "output_type": "stream",
          "name": "stdout",
          "text": [
            "Epoch [1/2], Loss: 0.3296\n",
            "Accuracy: 94.09%\n",
            "Epoch [2/2], Loss: 0.1502\n",
            "Accuracy: 95.66%\n",
            "Epoch [1/2], Loss: 0.3284\n",
            "Accuracy: 92.70%\n",
            "Epoch [2/2], Loss: 0.1543\n",
            "Accuracy: 95.80%\n",
            "Epoch [1/2], Loss: 0.3289\n",
            "Accuracy: 94.88%\n",
            "Epoch [2/2], Loss: 0.1455\n",
            "Accuracy: 94.69%\n",
            "Epoch [1/2], Loss: 0.3179\n",
            "Accuracy: 93.79%\n",
            "Epoch [2/2], Loss: 0.1462\n",
            "Accuracy: 94.70%\n",
            "Epoch [1/2], Loss: 0.3385\n",
            "Accuracy: 94.62%\n",
            "Epoch [2/2], Loss: 0.1518\n",
            "Accuracy: 95.98%\n",
            "K-Fold Cross-Validation Results: [95.65833333333333, 95.8, 94.69166666666666, 94.7, 95.98333333333333]\n",
            "Mean Accuracy: 95.37%\n"
          ]
        }
      ]
    },
    {
      "cell_type": "code",
      "source": [
        "!mkdir -p ~/.kaggle\n",
        "!cp kaggle.json ~/.kaggle/\n",
        "!kaggle datasets download -d salader/dogs-vs-cats"
      ],
      "metadata": {
        "colab": {
          "base_uri": "https://localhost:8080/"
        },
        "id": "ooTDxh9TbEHZ",
        "outputId": "9054231a-7588-43b0-b5c5-58bdd36098aa"
      },
      "execution_count": null,
      "outputs": [
        {
          "output_type": "stream",
          "name": "stdout",
          "text": [
            "cp: cannot stat 'kaggle.json': No such file or directory\n",
            "Dataset URL: https://www.kaggle.com/datasets/salader/dogs-vs-cats\n",
            "License(s): unknown\n",
            "Downloading dogs-vs-cats.zip to /content\n",
            " 98% 1.05G/1.06G [00:09<00:00, 174MB/s]\n",
            "100% 1.06G/1.06G [00:09<00:00, 114MB/s]\n"
          ]
        }
      ]
    },
    {
      "cell_type": "code",
      "source": [
        "import zipfile\n",
        "zip_ref = zipfile.ZipFile('/content/dogs-vs-cats.zip', 'r')\n",
        "zip_ref.extractall('/content')\n",
        "zip_ref.close()"
      ],
      "metadata": {
        "id": "Mt1XJSc2cPVg"
      },
      "execution_count": null,
      "outputs": []
    },
    {
      "cell_type": "code",
      "source": [
        "!ls /content/dogs_vs_cats\n",
        "!ls /content/dogs_vs_cats\n"
      ],
      "metadata": {
        "colab": {
          "base_uri": "https://localhost:8080/"
        },
        "id": "JyWf6sMJfn4R",
        "outputId": "f8df214c-43e8-4a45-b89f-dc516c1537c1"
      },
      "execution_count": null,
      "outputs": [
        {
          "output_type": "stream",
          "name": "stdout",
          "text": [
            "test  train\n",
            "test  train\n"
          ]
        }
      ]
    },
    {
      "cell_type": "code",
      "source": [
        "#Dog-Cat Classifier using pretrained MNIST Model.\n",
        "from torchvision.datasets import ImageFolder\n",
        "from torchvision.models import resnet18\n",
        "import torch.optim as optim\n",
        "\n",
        "batch_size = 64\n",
        "learning_rate = 0.001\n",
        "num_epochs = 10\n",
        "device = torch.device('cuda' if torch.cuda.is_available() else 'cpu')\n",
        "# Custom data loader for dog-cat dataset\n",
        "dog_cat_transform = transforms.Compose([\n",
        "    transforms.Resize((28, 28)),\n",
        "    transforms.ToTensor(),\n",
        "    transforms.Normalize((0.5,), (0.5,)),\n",
        "    transforms.Grayscale(num_output_channels=1)\n",
        "])\n",
        "\n",
        "dog_cat_dataset = ImageFolder(root='/content/dogs_vs_cats', transform=dog_cat_transform)\n",
        "dog_cat_loader = DataLoader(dog_cat_dataset, batch_size=batch_size, shuffle=True)\n",
        "\n",
        "# Load pretrained model\n",
        "model = FullyConvolutionalNet()\n",
        "pretrained_model = model\n",
        "pretrained_model.to(device)\n",
        "\n",
        "# Modify the pretrained model for fine-tuning\n",
        "class DogCatClassifier(nn.Module):\n",
        "    def __init__(self, pretrained_model):\n",
        "        super(DogCatClassifier, self).__init__()\n",
        "        self.conv1 = pretrained_model.conv1\n",
        "        self.conv2 = pretrained_model.conv2\n",
        "        self.pool = pretrained_model.pool\n",
        "        self.fc1 = nn.Linear(64 * 7 * 7, 512)\n",
        "        self.fc2 = nn.Linear(512, 2)\n",
        "\n",
        "    def forward(self, x):\n",
        "        x = torch.relu(self.conv1(x))\n",
        "        #print(f'After conv1: {x.shape}')\n",
        "        x = self.pool(x)\n",
        "        #print(f'After pool1: {x.shape}')\n",
        "        x = torch.relu(self.conv2(x))\n",
        "        #print(f'After conv2: {x.shape}')\n",
        "        x = self.pool(x)\n",
        "        #print(f'After pool2: {x.shape}')\n",
        "        x = x.view(-1, 64 * 7 * 7)\n",
        "        #print(f'After view: {x.shape}')\n",
        "        x = torch.relu(self.fc1(x))\n",
        "        #print(f'After fc1: {x.shape}')\n",
        "        x = self.fc2(x)\n",
        "        #print(f'After fc2: {x.shape}')\n",
        "        return x\n",
        "\n",
        "dog_cat_model = DogCatClassifier(pretrained_model).to(device)\n",
        "optimizer_dog_cat = optim.Adam(dog_cat_model.parameters(), lr=learning_rate)\n",
        "criterion_dog_cat = nn.CrossEntropyLoss()\n",
        "\n",
        "# Fine-tuning on dog-cat dataset\n",
        "num_epochs_dog_cat = 10\n",
        "for epoch in range(num_epochs_dog_cat):\n",
        "    dog_cat_model.train()\n",
        "    for batch_idx, (data, target) in enumerate(dog_cat_loader):\n",
        "        data, target = data.to(device), target.to(device)\n",
        "\n",
        "        outputs = dog_cat_model(data)\n",
        "        #print(f'Batch {batch_idx}: data shape {data.shape}, outputs shape {outputs.shape}, target shape {target.shape}')\n",
        "\n",
        "        loss = criterion_dog_cat(outputs, target)\n",
        "\n",
        "        optimizer_dog_cat.zero_grad()\n",
        "        loss.backward()\n",
        "        optimizer_dog_cat.step()\n",
        "\n",
        "    print(f'Dog-Cat Fine-tuning Epoch [{epoch+1}/{num_epochs_dog_cat}], Loss: {loss.item():.4f}')\n"
      ],
      "metadata": {
        "colab": {
          "base_uri": "https://localhost:8080/"
        },
        "id": "jvNOBsc35dGj",
        "outputId": "3995ea22-669d-4690-b7be-5797225a7c8c"
      },
      "execution_count": null,
      "outputs": [
        {
          "output_type": "stream",
          "name": "stdout",
          "text": [
            "Dog-Cat Fine-tuning Epoch [1/10], Loss: 0.6497\n",
            "Dog-Cat Fine-tuning Epoch [2/10], Loss: 0.4646\n",
            "Dog-Cat Fine-tuning Epoch [3/10], Loss: 0.5289\n",
            "Dog-Cat Fine-tuning Epoch [4/10], Loss: 0.5985\n",
            "Dog-Cat Fine-tuning Epoch [5/10], Loss: 0.6590\n",
            "Dog-Cat Fine-tuning Epoch [6/10], Loss: 0.3340\n",
            "Dog-Cat Fine-tuning Epoch [7/10], Loss: 0.3903\n",
            "Dog-Cat Fine-tuning Epoch [8/10], Loss: 0.6081\n",
            "Dog-Cat Fine-tuning Epoch [9/10], Loss: 0.3521\n",
            "Dog-Cat Fine-tuning Epoch [10/10], Loss: 0.5160\n"
          ]
        }
      ]
    }
  ]
}